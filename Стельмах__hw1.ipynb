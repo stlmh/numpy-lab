{
  "nbformat": 4,
  "nbformat_minor": 0,
  "metadata": {
    "colab": {
      "provenance": []
    },
    "kernelspec": {
      "name": "python3",
      "display_name": "Python 3"
    },
    "language_info": {
      "name": "python"
    }
  },
  "cells": [
    {
      "cell_type": "markdown",
      "source": [
        "# Лабораторна робота 1\n",
        "Стельмах Ліана"
      ],
      "metadata": {
        "id": "KA52ZgugmcH5"
      }
    },
    {
      "cell_type": "code",
      "source": [
        "import numpy as np"
      ],
      "metadata": {
        "id": "rcyocH29uRjU"
      },
      "execution_count": 2,
      "outputs": []
    },
    {
      "cell_type": "code",
      "source": [
        "#1.Створіть одновимірний масив (вектор) з першими 20-ма натуральними числами та виведіть його значення.\n",
        "vector = np.arange(1, 21)\n",
        "print(\"Одновимірний масив:\", vector)"
      ],
      "metadata": {
        "colab": {
          "base_uri": "https://localhost:8080/"
        },
        "id": "NkDOo3dPnO-h",
        "outputId": "b845dbf7-f242-42c1-dc26-0d96b5776e70"
      },
      "execution_count": 3,
      "outputs": [
        {
          "output_type": "stream",
          "name": "stdout",
          "text": [
            "Одновимірний масив: [ 1  2  3  4  5  6  7  8  9 10 11 12 13 14 15 16 17 18 19 20]\n"
          ]
        }
      ]
    },
    {
      "cell_type": "code",
      "source": [
        "#2. Створіть двовимірний масив (матрицю) розміром 4x4, заповніть його одиницями та виведіть його значення.\n",
        "matrix_ones = np.ones((4, 4))\n",
        "print(\"\\nМатриця 4x4, заповнена одиницями:\\n\", matrix_ones)"
      ],
      "metadata": {
        "colab": {
          "base_uri": "https://localhost:8080/"
        },
        "id": "0cKWRBJZtmtt",
        "outputId": "5bacc4e3-0e5f-42cb-a6ea-028f4a501f2f"
      },
      "execution_count": 4,
      "outputs": [
        {
          "output_type": "stream",
          "name": "stdout",
          "text": [
            "\n",
            "Матриця 4x4, заповнена одиницями:\n",
            " [[1. 1. 1. 1.]\n",
            " [1. 1. 1. 1.]\n",
            " [1. 1. 1. 1.]\n",
            " [1. 1. 1. 1.]]\n"
          ]
        }
      ]
    },
    {
      "cell_type": "code",
      "source": [
        "#3.Створіть масив розміром 5x5, заповніть його випадковими дійсними числами в діапазоні від -1 до 1 та виведіть його значення.\n",
        "matrix_random = np.random.uniform(-1, 1, (5, 5))\n",
        "print(\"\\nМатриця 5x5 з випадковими числами від -1 до 1:\\n\", matrix_random)"
      ],
      "metadata": {
        "colab": {
          "base_uri": "https://localhost:8080/"
        },
        "id": "-Ozdq_Ncv2qs",
        "outputId": "7fd2f882-6346-47cb-dc6f-8c089fe9fc8f"
      },
      "execution_count": 5,
      "outputs": [
        {
          "output_type": "stream",
          "name": "stdout",
          "text": [
            "\n",
            "Матриця 5x5 з випадковими числами від -1 до 1:\n",
            " [[-0.81667923 -0.11303406  0.7216123   0.35313365 -0.99673034]\n",
            " [-0.78329107  0.69029738 -0.98300118  0.01814223  0.085685  ]\n",
            " [ 0.6613436  -0.76848245  0.25767055 -0.74508594 -0.29306977]\n",
            " [-0.46770867  0.62121297  0.27679007 -0.02021846 -0.35491075]\n",
            " [-0.30466738 -0.72039574 -0.10835809 -0.96542371  0.21724746]]\n"
          ]
        }
      ]
    },
    {
      "cell_type": "code",
      "source": [
        "#4.Створіть масив розміром 3x3, заповніть його випадковими дійсними числами в діапазоні від 0 до 1 та виведіть його значення.\n",
        "matrix_random_0_1 = np.random.rand(3, 3)\n",
        "print(\"\\nМатриця 3x3 з випадковими числами від 0 до 1:\\n\", matrix_random_0_1)"
      ],
      "metadata": {
        "colab": {
          "base_uri": "https://localhost:8080/"
        },
        "id": "evCv1catv2jE",
        "outputId": "07044db6-4f4e-4433-fd48-1d7a91e0d0ef"
      },
      "execution_count": 6,
      "outputs": [
        {
          "output_type": "stream",
          "name": "stdout",
          "text": [
            "\n",
            "Матриця 3x3 з випадковими числами від 0 до 1:\n",
            " [[0.81942429 0.81548436 0.58528723]\n",
            " [0.53012041 0.1855413  0.33930676]\n",
            " [0.28175053 0.35001992 0.96360771]]\n"
          ]
        }
      ]
    },
    {
      "cell_type": "code",
      "source": [
        "#5. Створіть два одновимірних масиви розміром 6, заповніть їх випадковими цілими числами в діапазоні від 1 до 20 та виконайте на них поелементні операції\n",
        "array1 = np.random.randint(1, 21, 6)\n",
        "array2 = np.random.randint(1, 21, 6)\n",
        "print(\"\\nМасив 1:\", array1)\n",
        "print(\"Масив 2:\", array2)\n",
        "print(\"Сума:\", array1 + array2)\n",
        "print(\"Різниця:\", array1 - array2)\n",
        "print(\"Добуток:\", array1 * array2)"
      ],
      "metadata": {
        "colab": {
          "base_uri": "https://localhost:8080/"
        },
        "id": "mo7xbrK4v2a-",
        "outputId": "40934eb5-0151-4f9f-c795-7e397c6b545f"
      },
      "execution_count": 7,
      "outputs": [
        {
          "output_type": "stream",
          "name": "stdout",
          "text": [
            "\n",
            "Масив 1: [17 14  7 10  1 11]\n",
            "Масив 2: [15  5  4  6  9  3]\n",
            "Сума: [32 19 11 16 10 14]\n",
            "Різниця: [ 2  9  3  4 -8  8]\n",
            "Добуток: [255  70  28  60   9  33]\n"
          ]
        }
      ]
    },
    {
      "cell_type": "code",
      "source": [
        "#6. Створіть дві матриці розміром 3x2 та 2x4, заповніть їх випадковими цілими числами в діапазоні від 1 до 5 та перемножте їх між собою.\n",
        "matrix_a = np.random.randint(1, 6, (3, 2))\n",
        "matrix_b = np.random.randint(1, 6, (2, 4))\n",
        "matrix_product = np.dot(matrix_a, matrix_b)\n",
        "print(\"\\nМатриця 3x2:\\n\", matrix_a)\n",
        "print(\"Матриця 2x4:\\n\", matrix_b)\n",
        "print(\"Добуток матриць:\\n\", matrix_product)"
      ],
      "metadata": {
        "colab": {
          "base_uri": "https://localhost:8080/"
        },
        "id": "j6-Yq2fqv2TQ",
        "outputId": "7953c0c7-9ef4-43ca-ca30-3696a95a4eb9"
      },
      "execution_count": 8,
      "outputs": [
        {
          "output_type": "stream",
          "name": "stdout",
          "text": [
            "\n",
            "Матриця 3x2:\n",
            " [[1 5]\n",
            " [5 2]\n",
            " [1 5]]\n",
            "Матриця 2x4:\n",
            " [[5 3 2 1]\n",
            " [5 5 5 1]]\n",
            "Добуток матриць:\n",
            " [[30 28 27  6]\n",
            " [35 25 20  7]\n",
            " [30 28 27  6]]\n"
          ]
        }
      ]
    },
    {
      "cell_type": "code",
      "source": [
        "#7. Створіть матрицю розміром 3x3, заповніть її випадковими дійсними числами в діапазоні від 0 до 1 та транспонуйте її.\n",
        "matrix_transpose = np.random.rand(3, 3)\n",
        "print(\"\\nОригінальна матриця:\\n\", matrix_transpose)\n",
        "print(\"Транспонована матриця:\\n\", matrix_transpose.T)"
      ],
      "metadata": {
        "colab": {
          "base_uri": "https://localhost:8080/"
        },
        "id": "Sq_udpytv2Ks",
        "outputId": "80643bac-ef1a-4c15-bf46-fd593e7ba41f"
      },
      "execution_count": 9,
      "outputs": [
        {
          "output_type": "stream",
          "name": "stdout",
          "text": [
            "\n",
            "Оригінальна матриця:\n",
            " [[0.24482881 0.08407729 0.21460203]\n",
            " [0.24862906 0.63464218 0.73111935]\n",
            " [0.28493578 0.13646599 0.87668497]]\n",
            "Транспонована матриця:\n",
            " [[0.24482881 0.24862906 0.28493578]\n",
            " [0.08407729 0.63464218 0.13646599]\n",
            " [0.21460203 0.73111935 0.87668497]]\n"
          ]
        }
      ]
    },
    {
      "cell_type": "code",
      "source": [
        "#8. Створіть дві матриці розміром 3x3, заповніть їх випадковими цілими числами в діапазоні від 1 до 10 та знайдіть їхню різницю.\n",
        "matrix_diff_a = np.random.randint(1, 11, (3, 3))\n",
        "matrix_diff_b = np.random.randint(1, 11, (3, 3))\n",
        "matrix_difference = matrix_diff_a - matrix_diff_b\n",
        "print(\"\\nМатриця 1:\\n\", matrix_diff_a)\n",
        "print(\"Матриця 2:\\n\", matrix_diff_b)\n",
        "print(\"Різниця:\\n\", matrix_difference)"
      ],
      "metadata": {
        "colab": {
          "base_uri": "https://localhost:8080/"
        },
        "id": "JqzNVkXnv1PE",
        "outputId": "aba37321-3479-47f3-ce30-97f890b8e38b"
      },
      "execution_count": 10,
      "outputs": [
        {
          "output_type": "stream",
          "name": "stdout",
          "text": [
            "\n",
            "Матриця 1:\n",
            " [[9 4 2]\n",
            " [6 2 3]\n",
            " [4 1 7]]\n",
            "Матриця 2:\n",
            " [[9 7 5]\n",
            " [7 5 8]\n",
            " [3 9 6]]\n",
            "Різниця:\n",
            " [[ 0 -3 -3]\n",
            " [-1 -3 -5]\n",
            " [ 1 -8  1]]\n"
          ]
        }
      ]
    },
    {
      "cell_type": "code",
      "source": [
        "#9. Створіть дві матриці розміром 3x3, заповніть їх випадковими цілими числами в діапазоні від -5 до 5 та знайдіть їх добуток.\n",
        "matrix_mult_a = np.random.randint(-5, 6, (3, 3))\n",
        "matrix_mult_b = np.random.randint(-5, 6, (3, 3))\n",
        "matrix_multiplication = np.dot(matrix_mult_a, matrix_mult_b)\n",
        "print(\"\\nМатриця 1:\\n\", matrix_mult_a)\n",
        "print(\"Матриця 2:\\n\", matrix_mult_b)\n",
        "print(\"Добуток:\\n\", matrix_multiplication)"
      ],
      "metadata": {
        "colab": {
          "base_uri": "https://localhost:8080/"
        },
        "id": "5fY8J7twv0vG",
        "outputId": "ebb5cd83-283b-43ac-ff33-65d0db91e220"
      },
      "execution_count": 11,
      "outputs": [
        {
          "output_type": "stream",
          "name": "stdout",
          "text": [
            "\n",
            "Матриця 1:\n",
            " [[ 0 -3  1]\n",
            " [-5 -4  1]\n",
            " [ 3 -1 -4]]\n",
            "Матриця 2:\n",
            " [[-2  3 -2]\n",
            " [-2 -1  5]\n",
            " [-1 -3  3]]\n",
            "Добуток:\n",
            " [[  5   0 -12]\n",
            " [ 17 -14  -7]\n",
            " [  0  22 -23]]\n"
          ]
        }
      ]
    },
    {
      "cell_type": "code",
      "source": [
        "#10.Створіть матрицю розміром 3x3, заповніть її випадковими дійсними числами в діапазоні від -1 до 1 та знайдіть вектор-стовпчик, що містить суму елементів кожного рядка матриці.\n",
        "matrix_sum = np.random.uniform(-1, 1, (3, 3))\n",
        "vector_sum = np.sum(matrix_sum, axis=1).reshape(-1, 1)\n",
        "print(\"\\nМатриця:\\n\", matrix_sum)\n",
        "print(\"Вектор-стовпчик сум рядків:\\n\", vector_sum)\n",
        "\n",
        "\n",
        ""
      ],
      "metadata": {
        "colab": {
          "base_uri": "https://localhost:8080/"
        },
        "id": "zUM9Gs6AwR1q",
        "outputId": "fdb17e5c-c5a1-4af3-b0b1-b9bd47a7c27f"
      },
      "execution_count": 12,
      "outputs": [
        {
          "output_type": "stream",
          "name": "stdout",
          "text": [
            "\n",
            "Матриця:\n",
            " [[-0.92107429  0.96260725 -0.58241669]\n",
            " [ 0.80079184 -0.77580021 -0.46033489]\n",
            " [-0.2316642   0.28498859 -0.03130084]]\n",
            "Вектор-стовпчик сум рядків:\n",
            " [[-0.54088373]\n",
            " [-0.43534327]\n",
            " [ 0.02202355]]\n"
          ]
        }
      ]
    }
  ]
}